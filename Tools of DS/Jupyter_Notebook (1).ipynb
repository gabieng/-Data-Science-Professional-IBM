{
  "metadata": {
    "kernelspec": {
      "name": "python",
      "display_name": "Pyolite",
      "language": "python"
    },
    "language_info": {
      "codemirror_mode": {
        "name": "python",
        "version": 3
      },
      "file_extension": ".py",
      "mimetype": "text/x-python",
      "name": "python",
      "nbconvert_exporter": "python",
      "pygments_lexer": "ipython3",
      "version": "3.8"
    }
  },
  "nbformat_minor": 4,
  "nbformat": 4,
  "cells": [
    {
      "cell_type": "markdown",
      "source": "<center>\n    <img src=\"https://s3-api.us-geo.objectstorage.softlayer.net/cf-courses-data/CognitiveClass/Logos/organization_logo/organization_logo.png\" width=\"300\" alt=\"cognitiveclass.ai logo\"  />\n</center>\n",
      "metadata": {}
    },
    {
      "cell_type": "markdown",
      "source": "#### Add your code below following the instructions given in the course\n",
      "metadata": {}
    },
    {
      "cell_type": "markdown",
      "source": "<h1> My Jupyter Notebook on IBM Watson Studio <h1>",
      "metadata": {}
    },
    {
      "cell_type": "markdown",
      "source": "<b>Gabriela Silva</b>   \n Production engineer\n",
      "metadata": {}
    },
    {
      "cell_type": "markdown",
      "source": "<i>I am interested in data science and I want to combine the power of ML with the business requirements, to create a effective solution  </i>",
      "metadata": {}
    },
    {
      "cell_type": "markdown",
      "source": "<h3>The Following Code will generate a random integer between 75 and 100</h3>",
      "metadata": {}
    },
    {
      "cell_type": "code",
      "source": "import random\n\nRandom_int = random.randint(80,100)\n\nprint(Random_int)",
      "metadata": {
        "trusted": true
      },
      "execution_count": 6,
      "outputs": [
        {
          "name": "stdout",
          "text": "91\n",
          "output_type": "stream"
        }
      ]
    },
    {
      "cell_type": "markdown",
      "source": ">Learning:",
      "metadata": {}
    },
    {
      "cell_type": "markdown",
      "source": "\n <ol>\n<li>Machine learning</li>\n<li>Data analitics</li>\n<li> Python</li>\n</ol>",
      "metadata": {}
    },
    {
      "cell_type": "markdown",
      "source": "hyperlink_format = '<a href=\"{link}\">{text}</a>'",
      "metadata": {}
    },
    {
      "cell_type": "code",
      "source": "",
      "metadata": {},
      "execution_count": null,
      "outputs": []
    }
  ]
}